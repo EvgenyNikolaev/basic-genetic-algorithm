{
 "cells": [
  {
   "cell_type": "code",
   "execution_count": 1,
   "outputs": [],
   "source": [
    "import numpy as np\n",
    "import pandas as pd\n",
    "from sklearn.metrics import (accuracy_score, mean_absolute_percentage_error)\n",
    "from sklearn.model_selection import (GridSearchCV, StratifiedKFold,\n",
    "                                     cross_val_score)\n",
    "from sklearn.ensemble import (BaggingClassifier, BaggingRegressor,\n",
    "                              RandomForestClassifier, RandomForestRegressor)\n",
    "from sklearn.metrics import mean_squared_error\n",
    "from sklearn.model_selection import StratifiedKFold, train_test_split"
   ],
   "metadata": {
    "collapsed": false,
    "ExecuteTime": {
     "end_time": "2024-03-19T21:54:26.976221700Z",
     "start_time": "2024-03-19T21:54:25.724275800Z"
    }
   },
   "id": "6d3e26b71d8cabfb"
  },
  {
   "cell_type": "code",
   "execution_count": 2,
   "outputs": [
    {
     "name": "stdout",
     "output_type": "stream",
     "text": [
      "CV accuracy score: 80.49%\n"
     ]
    }
   ],
   "source": [
    "#df = pd.read_csv(\"observation_202403041348.csv\")\n",
    "#\n",
    "##df.head()\n",
    "#df = df[df[\"operators_avg_service_time_last_month\"] > 0]\n",
    "#df = df[df[\"operators_avg_service_time_last_hour\"] > 0]\n",
    "#\n",
    "#y = df[\"wait_duration_class_2\"]\n",
    "#df.drop([\"wait_duration\", \"wait_duration_class_1\", \"wait_duration_class_2\", \"id\"], axis=1, inplace=True)\n",
    "#X = df\n",
    "#\n",
    "## Initialize a stratified split of our dataset for the validation process\n",
    "#skf = StratifiedKFold(n_splits=5, shuffle=True, random_state=42)\n",
    "#\n",
    "## Initialize the classifier with the default parameters \n",
    "#rfc = RandomForestClassifier(random_state=42, n_jobs=-1)\n",
    "#\n",
    "## Train it on the training set\n",
    "#results = cross_val_score(rfc, X, y, cv=skf)\n",
    "#\n",
    "## Evaluate the accuracy on the test set\n",
    "#print(\"CV accuracy score: {:.2f}%\".format(results.mean() * 100))"
   ],
   "metadata": {
    "collapsed": false,
    "ExecuteTime": {
     "start_time": "2024-03-18T19:24:01.572509100Z"
    }
   },
   "id": "65d1cde831ad30f4"
  },
  {
   "cell_type": "code",
   "execution_count": 3,
   "outputs": [
    {
     "name": "stdout",
     "output_type": "stream",
     "text": [
      "Relative error value: 1.283145332750591\n",
      "mape: 3542077932641987.0\n",
      "Relative error value grouped by target value:\n",
      "Target value: 1, Relative error: 8.952844634304235, mape: 6.985055975748926\n",
      "Target value: 2, Relative error: 2.0934044106451744, mape: 0.925170921869014\n",
      "Target value: 3, Relative error: 2.7055138101153546, mape: 0.6723806388441558\n",
      "Target value: 4, Relative error: 0.6762333902437047, mape: 0.5117623328223275\n",
      "Target value: 5, Relative error: 0.5657992160477741, mape: 0.4355459224853793\n",
      "Target value: 6, Relative error: 0.49438245147913773, mape: 0.3791636330547834\n",
      "Target value: 7, Relative error: 0.43500826784162877, mape: 0.33481564369410427\n",
      "Target value: 8, Relative error: 0.39314134958163083, mape: 0.30697378183561813\n",
      "Target value: 9, Relative error: 0.36925986547359757, mape: 0.2915693722195559\n",
      "Target value: 10, Relative error: 0.4996023812398667, mape: 0.27936979581014487\n",
      "Target value: 11, Relative error: 0.3270187050300054, mape: 0.25500588923337575\n",
      "Target value: 12, Relative error: 0.3188020045255313, mape: 0.24855436535655107\n",
      "Target value: 13, Relative error: 0.3379586015287307, mape: 0.26424524045761494\n",
      "Target value: 14, Relative error: 0.3018180034070017, mape: 0.22875629476634235\n",
      "Target value: 15, Relative error: 0.30876391974975986, mape: 0.23707088381056002\n",
      "Target value: 16, Relative error: 0.3402047040670723, mape: 0.2725783423328414\n",
      "Target value: 17, Relative error: 0.3238546223560491, mape: 0.2564546379723893\n",
      "Target value: 18, Relative error: 0.33242512531605345, mape: 0.2580164909119602\n",
      "Target value: 19, Relative error: 0.34849268025606983, mape: 0.2847221593821697\n",
      "Target value: 20, Relative error: 0.34036817989350054, mape: 0.2598216604407476\n",
      "Target value: 21, Relative error: 0.37639203593567105, mape: 0.2381754382392131\n",
      "Target value: 22, Relative error: 0.32597902361162867, mape: 0.23979079960639568\n",
      "Target value: 23, Relative error: 0.32369427398481054, mape: 0.25578104701241444\n",
      "Target value: 24, Relative error: 0.33170840365493537, mape: 0.2618105190428524\n",
      "Target value: 25, Relative error: 0.26384763059102095, mape: 0.20163609022258355\n",
      "Target value: 26, Relative error: 0.24395672702426127, mape: 0.19426774929710988\n",
      "Target value: 27, Relative error: 0.3582070466909784, mape: 0.2699799925643704\n",
      "Target value: 28, Relative error: 0.31531302569303366, mape: 0.22469025217757416\n",
      "Target value: 29, Relative error: 0.30327710320433343, mape: 0.23422305993815865\n",
      "Target value: 30, Relative error: 0.23678797905866575, mape: 0.16883746576666914\n",
      "Target value: 31, Relative error: 0.28341371508146235, mape: 0.18637162978847613\n",
      "Target value: 32, Relative error: 0.2521643550292338, mape: 0.2145054010935375\n",
      "Target value: 33, Relative error: 0.4165717562452454, mape: 0.3254935785052767\n",
      "Target value: 34, Relative error: 0.32825576066482964, mape: 0.2413942537494696\n",
      "Target value: 35, Relative error: 0.13344383385826042, mape: 0.08294344917023455\n",
      "Target value: 36, Relative error: 0.262574129316832, mape: 0.1536006371911197\n",
      "Target value: 37, Relative error: 0.07812973710498956, mape: 0.06731681659709923\n",
      "Target value: 38, Relative error: 0.08598811988463746, mape: 0.05085886309627452\n",
      "Target value: 39, Relative error: 0.1747742556213581, mape: 0.16821394407310586\n",
      "Target value: 40, Relative error: 0.38120702124302736, mape: 0.30689306825778906\n",
      "Target value: 41, Relative error: 0.48934028377327765, mape: 0.2932786400172002\n",
      "Target value: 42, Relative error: 0.09869412365776381, mape: 0.08671621862317669\n",
      "Target value: 43, Relative error: 0.11805507420750257, mape: 0.11380947132517723\n",
      "Target value: 44, Relative error: 0.4764202593599559, mape: 0.37212124477651254\n",
      "Target value: 45, Relative error: 0.27540104736151183, mape: 0.2118148105080084\n",
      "Target value: 48, Relative error: 0.4276325088339223, mape: 0.4276325088339223\n",
      "Target value: 49, Relative error: 0.4043947610109078, mape: 0.4036550830802216\n",
      "Target value: 57, Relative error: 0.7323721759809749, mape: 0.7323721759809749\n"
     ]
    }
   ],
   "source": [
    "\n",
    "df_reg = pd.read_csv(\"observation_202403041348.csv\")\n",
    "df_reg[\"month\"] = df_reg[\"month\"].astype(\"object\")\n",
    "df_reg[\"day_of_month\"] = df_reg[\"day_of_month\"].astype(\"object\")\n",
    "df_reg[\"day_of_week\"] = df_reg[\"day_of_week\"].astype(\"object\")\n",
    "df_reg[\"service_id\"] = df_reg[\"service_id\"].astype(\"object\")\n",
    "df_reg[\"service_operators_set\"] = df_reg[\"service_operators_set\"].astype(\"object\")\n",
    "df_reg[\"is_urgent\"] = df_reg[\"is_urgent\"].astype(\"object\")\n",
    "df_reg[\"weather_type\"] = df_reg[\"weather_type\"].astype(\"object\")\n",
    "\n",
    "df_reg = df_reg[df_reg[\"operators_avg_service_time_last_month\"] > 0]\n",
    "df_reg = df_reg[df_reg[\"operators_avg_service_time_last_hour\"] > 0]\n",
    "#df_reg = df_reg[df_reg[\"wait_duration\"] > 0]\n",
    "\n",
    "y = df_reg[\"wait_duration\"]\n",
    "df_reg.drop([\"wait_duration\", \"wait_duration_class_1\", \"wait_duration_class_2\", \"id\"], axis=1, inplace=True)\n",
    "\n",
    "X_train, X_holdout, y_train, y_holdout = train_test_split(\n",
    "    df_reg.values, y, test_size=0.3, random_state=17, shuffle=True\n",
    ")\n",
    "\n",
    "# Random Forest\n",
    "rf = RandomForestRegressor(n_estimators=10).fit(X_train, y_train)\n",
    "rf_predict = rf.predict(X_holdout)\n",
    "\n",
    "mse = mean_squared_error(y_holdout, rf_predict)\n",
    "relative_error = np.sqrt(mse) / np.mean(y_holdout.array)\n",
    "#relative_error_2 = (np.absolute(rf_predict - y_holdout) / y_holdout).sum() / y_holdout.shape[0]\n",
    "mape = mean_absolute_percentage_error(y_holdout, rf_predict)\n",
    "print(\"Relative error value:\", relative_error)\n",
    "print(\"mape:\", mape)\n",
    "\n",
    "grouped_relative_errors = []\n",
    "\n",
    "minute = 0\n",
    "while minute < 90:\n",
    "    group_indices = np.where((minute * 60 < y_holdout) & (y_holdout <= (minute + 1) * 60))[0]\n",
    "    minute = minute + 1\n",
    "    group_X_holdout = X_holdout[group_indices]\n",
    "    group_y_holdout = y_holdout.array[group_indices]\n",
    "    if group_X_holdout.shape[0] < 1:\n",
    "        continue\n",
    "    group_y_pred = rf.predict(group_X_holdout)\n",
    "    group_mse = mean_squared_error(group_y_holdout, group_y_pred)\n",
    "    group_relative_error = np.sqrt(group_mse) / np.mean(group_y_holdout)\n",
    "    #group_relative_error_2 = (np.absolute(group_y_pred - group_y_holdout) / group_y_holdout).sum() / group_y_holdout.shape[0]\n",
    "    mape = mean_absolute_percentage_error(group_y_holdout, group_y_pred)\n",
    "    grouped_relative_errors.append((minute, group_relative_error, mape))\n",
    "\n",
    "print(\"Relative error value grouped by target value:\")\n",
    "for target_value, relative_error, mape in grouped_relative_errors:\n",
    "    print(f\"Target value: {target_value}, Relative error: {relative_error}, mape: {mape}\")\n"
   ],
   "metadata": {
    "collapsed": false,
    "ExecuteTime": {
     "end_time": "2024-03-19T21:55:38.594799900Z",
     "start_time": "2024-03-19T21:55:25.823500500Z"
    }
   },
   "id": "6fe94f658c426d40"
  },
  {
   "cell_type": "code",
   "execution_count": 33,
   "outputs": [
    {
     "name": "stdout",
     "output_type": "stream",
     "text": [
      "<class 'pandas.core.frame.DataFrame'>\n",
      "RangeIndex: 169280 entries, 0 to 169279\n",
      "Data columns (total 25 columns):\n",
      " #   Column                                 Non-Null Count   Dtype  \n",
      "---  ------                                 --------------   -----  \n",
      " 0   id                                     169280 non-null  int64  \n",
      " 1   month                                  169280 non-null  int64  \n",
      " 2   day_of_month                           169280 non-null  int64  \n",
      " 3   day_of_week                            169280 non-null  int64  \n",
      " 4   hour                                   169280 non-null  int64  \n",
      " 5   minute                                 169280 non-null  int64  \n",
      " 6   non_working_days_before                169280 non-null  int64  \n",
      " 7   non_working_days_after                 169280 non-null  int64  \n",
      " 8   service_id                             169280 non-null  int64  \n",
      " 9   minutes_from_opening                   169280 non-null  int64  \n",
      " 10  minutes_to_closing                     169280 non-null  int64  \n",
      " 11  queue_size_for_selected_service        169280 non-null  int64  \n",
      " 12  queue_size_total                       169280 non-null  int64  \n",
      " 13  selected_service_operators_count       169280 non-null  int64  \n",
      " 14  total_operators_count                  169280 non-null  int64  \n",
      " 15  operators_avg_service_time_last_month  124162 non-null  float64\n",
      " 16  operators_avg_service_time_last_hour   106280 non-null  float64\n",
      " 17  weather_type                           169280 non-null  int64  \n",
      " 18  service_operators_set                  169176 non-null  float64\n",
      " 19  wait_duration                          169280 non-null  int64  \n",
      " 20  priority                               169280 non-null  int64  \n",
      " 21  is_mobile                              169280 non-null  int64  \n",
      " 22  is_urgent                              169280 non-null  int64  \n",
      " 23  wait_duration_class_1                  169280 non-null  int64  \n",
      " 24  wait_duration_class_2                  169280 non-null  int64  \n",
      "dtypes: float64(3), int64(22)\n",
      "memory usage: 32.3 MB\n"
     ]
    }
   ],
   "source": [],
   "metadata": {
    "collapsed": false,
    "ExecuteTime": {
     "end_time": "2024-03-18T22:03:09.745961300Z",
     "start_time": "2024-03-18T22:03:09.363960600Z"
    }
   },
   "id": "da2ca1bc9954e6f8"
  }
 ],
 "metadata": {
  "kernelspec": {
   "display_name": "Python 3",
   "language": "python",
   "name": "python3"
  },
  "language_info": {
   "codemirror_mode": {
    "name": "ipython",
    "version": 2
   },
   "file_extension": ".py",
   "mimetype": "text/x-python",
   "name": "python",
   "nbconvert_exporter": "python",
   "pygments_lexer": "ipython2",
   "version": "2.7.6"
  }
 },
 "nbformat": 4,
 "nbformat_minor": 5
}
