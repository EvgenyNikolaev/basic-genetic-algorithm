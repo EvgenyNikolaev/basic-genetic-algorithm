{
 "cells": [
  {
   "cell_type": "code",
   "execution_count": 21,
   "outputs": [],
   "source": [
    "import numpy as np\n",
    "import pandas as pd\n",
    "from sklearn.metrics import (accuracy_score, mean_absolute_percentage_error, mean_squared_error, mean_absolute_error, median_absolute_error)\n",
    "from sklearn.model_selection import (GridSearchCV, StratifiedKFold,\n",
    "                                     cross_val_score)\n",
    "from sklearn.ensemble import (BaggingClassifier, BaggingRegressor,\n",
    "                              RandomForestClassifier, RandomForestRegressor)\n",
    "from sklearn.model_selection import StratifiedKFold, train_test_split\n",
    "from xgboost import XGBRegressor\n",
    "import matplotlib.pyplot as plt"
   ],
   "metadata": {
    "collapsed": false,
    "ExecuteTime": {
     "end_time": "2024-03-19T23:43:39.622932900Z",
     "start_time": "2024-03-19T23:43:39.606914700Z"
    }
   },
   "id": "6d3e26b71d8cabfb"
  },
  {
   "cell_type": "code",
   "execution_count": 12,
   "outputs": [],
   "source": [
    "def get_data_split():\n",
    "    df_reg = pd.read_csv(\"observation_202403041348.csv\")\n",
    "\n",
    "    df_reg[\"month\"] = df_reg[\"month\"].astype(\"object\")\n",
    "    df_reg[\"day_of_month\"] = df_reg[\"day_of_month\"].astype(\"object\")\n",
    "    df_reg[\"day_of_week\"] = df_reg[\"day_of_week\"].astype(\"object\")\n",
    "    df_reg[\"service_id\"] = df_reg[\"service_id\"].astype(\"object\")\n",
    "    df_reg[\"service_operators_set\"] = df_reg[\"service_operators_set\"].astype(\"object\")\n",
    "    df_reg[\"is_urgent\"] = df_reg[\"is_urgent\"].astype(\"object\")\n",
    "    df_reg[\"weather_type\"] = df_reg[\"weather_type\"].astype(\"object\")\n",
    "    \n",
    "    df_reg = df_reg[df_reg[\"operators_avg_service_time_last_month\"] > 0]\n",
    "    df_reg = df_reg[df_reg[\"operators_avg_service_time_last_hour\"] > 0]\n",
    "    #df_reg = df_reg[df_reg[\"wait_duration\"] > 0]\n",
    "    \n",
    "    y = df_reg[\"wait_duration\"]\n",
    "    df_reg.drop([\"wait_duration\", \"wait_duration_class_1\", \"wait_duration_class_2\", \"id\"], axis=1, inplace=True)\n",
    "    \n",
    "    return train_test_split(\n",
    "        df_reg.values, y, test_size=0.3, random_state=17, shuffle=True\n",
    "    )\n",
    "\n",
    "def print_statistics_by_group(X_holdout, y_holdout, regressor, regressorName):\n",
    "    \n",
    "    y_prediction = regressor.predict(X_holdout)\n",
    "\n",
    "    mse = mean_squared_error(y_holdout, y_prediction)\n",
    "    mape = mean_absolute_percentage_error(y_holdout, y_prediction)\n",
    "    mae = mean_absolute_error(y_holdout, y_prediction)\n",
    "    medae = median_absolute_error(y_holdout, y_prediction)\n",
    "    \n",
    "    print(f\"{regressorName} MAE (Mean Absolute Error): {mae}\")\n",
    "    #print(f\"{regressorName} MSE (Mean Squared Error): {mse}\")\n",
    "    print(f\"{regressorName} MAPE (Mean Absolute Percentage Error): {mape}\")\n",
    "    print(f\"{regressorName} MEDAE (Median Absolute Error): {medae}\")    \n",
    "    \n",
    "    group_statistics = []\n",
    "    minute = 0\n",
    "    while minute < 90:\n",
    "        group_indices = np.where((minute * 60 < y_holdout) & (y_holdout <= (minute + 1) * 60))[0]\n",
    "        minute = minute + 1\n",
    "        group_X_holdout = X_holdout[group_indices]\n",
    "        group_y_holdout = y_holdout.array[group_indices]\n",
    "        if group_X_holdout.shape[0] < 1:\n",
    "            continue\n",
    "        group_y_pred = regressor.predict(group_X_holdout)\n",
    "\n",
    "        group_mse = mean_squared_error(group_y_holdout, group_y_pred)\n",
    "        group_mape = mean_absolute_percentage_error(group_y_holdout, group_y_pred)\n",
    "        group_mae = mean_absolute_error(group_y_holdout, group_y_pred)\n",
    "        group_medae = median_absolute_error(group_y_holdout, group_y_pred)\n",
    "        \n",
    "        group_statistics.append((minute, group_mse, group_mape, group_mae, group_medae))\n",
    "    \n",
    "    print(\"Relative error value grouped by target value:\")\n",
    "    for minute, group_mse, group_mape, group_mae, group_medae in group_statistics:\n",
    "        #print(f\"Minute: {minute}, MSE: {group_mse}, MAPE: {group_mape}, MAE: {group_mae}, MedAE: {group_medae}\")\n",
    "        print(f\"Minute: {minute}, MAPE: {group_mape}, MAE: {group_mae}, MedAE: {group_medae}\")\n"
   ],
   "metadata": {
    "collapsed": false,
    "ExecuteTime": {
     "end_time": "2024-03-19T22:37:29.912948500Z",
     "start_time": "2024-03-19T22:37:29.905854100Z"
    }
   },
   "id": "65d1cde831ad30f4"
  },
  {
   "cell_type": "code",
   "execution_count": 8,
   "outputs": [
    {
     "name": "stdout",
     "output_type": "stream",
     "text": [
      "Random Forest MAE (Mean Absolute Error): 109.94490974858456\n",
      "Random Forest MSE (Mean Squared Error): 111968.48299785865\n",
      "Random Forest MAPE (Mean Absolute Percentage Error): 3725222469770304.5\n",
      "Random Forest MEDAE (Median Absolute Error): 69.07500000000002\n"
     ]
    },
    {
     "ename": "TypeError",
     "evalue": "missing a required argument: 'y_true'",
     "output_type": "error",
     "traceback": [
      "\u001B[1;31m---------------------------------------------------------------------------\u001B[0m",
      "\u001B[1;31mTypeError\u001B[0m                                 Traceback (most recent call last)",
      "Cell \u001B[1;32mIn[8], line 5\u001B[0m\n\u001B[0;32m      3\u001B[0m \u001B[38;5;66;03m# Random Forest\u001B[39;00m\n\u001B[0;32m      4\u001B[0m random_forest_regressor \u001B[38;5;241m=\u001B[39m RandomForestRegressor()\u001B[38;5;241m.\u001B[39mfit(X_train, y_train)\n\u001B[1;32m----> 5\u001B[0m \u001B[43mprint_statistics_by_group\u001B[49m\u001B[43m(\u001B[49m\u001B[43mX_holdout\u001B[49m\u001B[43m,\u001B[49m\u001B[43m \u001B[49m\u001B[43my_holdout\u001B[49m\u001B[43m,\u001B[49m\u001B[43m \u001B[49m\u001B[43mrandom_forest_regressor\u001B[49m\u001B[43m,\u001B[49m\u001B[43m \u001B[49m\u001B[38;5;124;43m\"\u001B[39;49m\u001B[38;5;124;43mRandom Forest\u001B[39;49m\u001B[38;5;124;43m\"\u001B[39;49m\u001B[43m)\u001B[49m\n",
      "Cell \u001B[1;32mIn[7], line 51\u001B[0m, in \u001B[0;36mprint_statistics_by_group\u001B[1;34m(X_holdout, y_holdout, regressor, regressorName)\u001B[0m\n\u001B[0;32m     49\u001B[0m     group_mape \u001B[38;5;241m=\u001B[39m mean_absolute_percentage_error(group_y_holdout, group_y_pred)\n\u001B[0;32m     50\u001B[0m     group_mae \u001B[38;5;241m=\u001B[39m mean_absolute_error(group_y_holdout, group_y_pred)\n\u001B[1;32m---> 51\u001B[0m     group_medae \u001B[38;5;241m=\u001B[39m \u001B[43mmedian_absolute_error\u001B[49m\u001B[43m(\u001B[49m\u001B[43m)\u001B[49m\n\u001B[0;32m     53\u001B[0m     group_statistics\u001B[38;5;241m.\u001B[39mappend((minute, group_mse, group_mape, group_mae, group_medae))\n\u001B[0;32m     55\u001B[0m \u001B[38;5;28mprint\u001B[39m(\u001B[38;5;124m\"\u001B[39m\u001B[38;5;124mRelative error value grouped by target value:\u001B[39m\u001B[38;5;124m\"\u001B[39m)\n",
      "File \u001B[1;32m~\\AppData\\Local\\pypoetry\\Cache\\virtualenvs\\project-ont_hk5L-py3.11\\Lib\\site-packages\\sklearn\\utils\\_param_validation.py:192\u001B[0m, in \u001B[0;36mvalidate_params.<locals>.decorator.<locals>.wrapper\u001B[1;34m(*args, **kwargs)\u001B[0m\n\u001B[0;32m    189\u001B[0m func_sig \u001B[38;5;241m=\u001B[39m signature(func)\n\u001B[0;32m    191\u001B[0m \u001B[38;5;66;03m# Map *args/**kwargs to the function signature\u001B[39;00m\n\u001B[1;32m--> 192\u001B[0m params \u001B[38;5;241m=\u001B[39m \u001B[43mfunc_sig\u001B[49m\u001B[38;5;241;43m.\u001B[39;49m\u001B[43mbind\u001B[49m\u001B[43m(\u001B[49m\u001B[38;5;241;43m*\u001B[39;49m\u001B[43margs\u001B[49m\u001B[43m,\u001B[49m\u001B[43m \u001B[49m\u001B[38;5;241;43m*\u001B[39;49m\u001B[38;5;241;43m*\u001B[39;49m\u001B[43mkwargs\u001B[49m\u001B[43m)\u001B[49m\n\u001B[0;32m    193\u001B[0m params\u001B[38;5;241m.\u001B[39mapply_defaults()\n\u001B[0;32m    195\u001B[0m \u001B[38;5;66;03m# ignore self/cls and positional/keyword markers\u001B[39;00m\n",
      "File \u001B[1;32m~\\AppData\\Local\\Programs\\Python\\Python311\\Lib\\inspect.py:3212\u001B[0m, in \u001B[0;36mSignature.bind\u001B[1;34m(self, *args, **kwargs)\u001B[0m\n\u001B[0;32m   3207\u001B[0m \u001B[38;5;28;01mdef\u001B[39;00m \u001B[38;5;21mbind\u001B[39m(\u001B[38;5;28mself\u001B[39m, \u001B[38;5;241m/\u001B[39m, \u001B[38;5;241m*\u001B[39margs, \u001B[38;5;241m*\u001B[39m\u001B[38;5;241m*\u001B[39mkwargs):\n\u001B[0;32m   3208\u001B[0m \u001B[38;5;250m    \u001B[39m\u001B[38;5;124;03m\"\"\"Get a BoundArguments object, that maps the passed `args`\u001B[39;00m\n\u001B[0;32m   3209\u001B[0m \u001B[38;5;124;03m    and `kwargs` to the function's signature.  Raises `TypeError`\u001B[39;00m\n\u001B[0;32m   3210\u001B[0m \u001B[38;5;124;03m    if the passed arguments can not be bound.\u001B[39;00m\n\u001B[0;32m   3211\u001B[0m \u001B[38;5;124;03m    \"\"\"\u001B[39;00m\n\u001B[1;32m-> 3212\u001B[0m     \u001B[38;5;28;01mreturn\u001B[39;00m \u001B[38;5;28;43mself\u001B[39;49m\u001B[38;5;241;43m.\u001B[39;49m\u001B[43m_bind\u001B[49m\u001B[43m(\u001B[49m\u001B[43margs\u001B[49m\u001B[43m,\u001B[49m\u001B[43m \u001B[49m\u001B[43mkwargs\u001B[49m\u001B[43m)\u001B[49m\n",
      "File \u001B[1;32m~\\AppData\\Local\\Programs\\Python\\Python311\\Lib\\inspect.py:3127\u001B[0m, in \u001B[0;36mSignature._bind\u001B[1;34m(self, args, kwargs, partial)\u001B[0m\n\u001B[0;32m   3125\u001B[0m                 msg \u001B[38;5;241m=\u001B[39m \u001B[38;5;124m'\u001B[39m\u001B[38;5;124mmissing a required argument: \u001B[39m\u001B[38;5;132;01m{arg!r}\u001B[39;00m\u001B[38;5;124m'\u001B[39m\n\u001B[0;32m   3126\u001B[0m                 msg \u001B[38;5;241m=\u001B[39m msg\u001B[38;5;241m.\u001B[39mformat(arg\u001B[38;5;241m=\u001B[39mparam\u001B[38;5;241m.\u001B[39mname)\n\u001B[1;32m-> 3127\u001B[0m                 \u001B[38;5;28;01mraise\u001B[39;00m \u001B[38;5;167;01mTypeError\u001B[39;00m(msg) \u001B[38;5;28;01mfrom\u001B[39;00m \u001B[38;5;28;01mNone\u001B[39;00m\n\u001B[0;32m   3128\u001B[0m \u001B[38;5;28;01melse\u001B[39;00m:\n\u001B[0;32m   3129\u001B[0m     \u001B[38;5;66;03m# We have a positional argument to process\u001B[39;00m\n\u001B[0;32m   3130\u001B[0m     \u001B[38;5;28;01mtry\u001B[39;00m:\n",
      "\u001B[1;31mTypeError\u001B[0m: missing a required argument: 'y_true'"
     ]
    }
   ],
   "source": [
    "X_train, X_holdout, y_train, y_holdout = get_data_split()"
   ],
   "metadata": {
    "collapsed": false,
    "ExecuteTime": {
     "end_time": "2024-03-19T22:33:29.668856500Z",
     "start_time": "2024-03-19T22:31:19.578760700Z"
    }
   },
   "id": "6fe94f658c426d40"
  },
  {
   "cell_type": "code",
   "execution_count": null,
   "outputs": [],
   "source": [
    "# Random Forest\n",
    "random_forest_regressor = RandomForestRegressor().fit(X_train, y_train)"
   ],
   "metadata": {
    "collapsed": false
   },
   "id": "cffc80f0eb0db16d"
  },
  {
   "cell_type": "code",
   "execution_count": 16,
   "outputs": [],
   "source": [
    "# XG Boost\n",
    "xg_regressor = XGBRegressor().fit(X_train, y_train)"
   ],
   "metadata": {
    "collapsed": false,
    "ExecuteTime": {
     "end_time": "2024-03-19T22:42:57.714051Z",
     "start_time": "2024-03-19T22:42:54.699033800Z"
    }
   },
   "id": "7173ccc1a26cff27"
  },
  {
   "cell_type": "code",
   "execution_count": 13,
   "outputs": [
    {
     "name": "stdout",
     "output_type": "stream",
     "text": [
      "Random Forest MAE (Mean Absolute Error): 109.94490974858456\n",
      "Random Forest MAPE (Mean Absolute Percentage Error): 3725222469770304.5\n",
      "Random Forest MEDAE (Median Absolute Error): 69.07500000000002\n",
      "Relative error value grouped by target value:\n",
      "Minute: 1, MAPE: 7.3177410953978, MAE: 68.4408009946973, MedAE: 46.474999999999994\n",
      "Minute: 2, MAPE: 0.8728355729005718, MAE: 75.55176765204209, MedAE: 49.015\n",
      "Minute: 3, MAPE: 0.63478998945686, MAE: 93.8456942912755, MedAE: 68.07\n",
      "Minute: 4, MAPE: 0.47857627870284064, MAE: 99.90236364180895, MedAE: 79.855\n",
      "Minute: 5, MAPE: 0.4081872429909522, MAE: 109.7142711148904, MedAE: 92.075\n",
      "Minute: 6, MAPE: 0.3519604069435289, MAE: 115.7456026086877, MedAE: 93.38999999999999\n",
      "Minute: 7, MAPE: 0.3114277832796348, MAE: 121.28346311729908, MedAE: 97.3825\n",
      "Minute: 8, MAPE: 0.28751934440788246, MAE: 129.15801126017243, MedAE: 104.34500000000003\n",
      "Minute: 9, MAPE: 0.27218040698592433, MAE: 138.4025891590679, MedAE: 119.94\n",
      "Minute: 10, MAPE: 0.2561355328444737, MAE: 145.59043160430838, MedAE: 114.34999999999997\n",
      "Minute: 11, MAPE: 0.24109470984701983, MAE: 151.75114535082326, MedAE: 119.36000000000001\n",
      "Minute: 12, MAPE: 0.2438411266996408, MAE: 168.37434952229302, MedAE: 139.58999999999997\n",
      "Minute: 13, MAPE: 0.24885820604802483, MAE: 186.97885955831612, MedAE: 145.14999999999998\n",
      "Minute: 14, MAPE: 0.21825476958942205, MAE: 176.55402245053273, MedAE: 127.25\n",
      "Minute: 15, MAPE: 0.2290839891418416, MAE: 198.88475617930453, MedAE: 148.74\n",
      "Minute: 16, MAPE: 0.2582665232490092, MAE: 240.21586723163847, MedAE: 195.5\n",
      "Minute: 17, MAPE: 0.2542960657828858, MAE: 251.7420451680672, MedAE: 203.815\n",
      "Minute: 18, MAPE: 0.24290355637110334, MAE: 255.17265350877193, MedAE: 187.65000000000003\n",
      "Minute: 19, MAPE: 0.27141015114549205, MAE: 300.7692773892774, MedAE: 268.54999999999995\n",
      "Minute: 20, MAPE: 0.2537763605465149, MAE: 297.3477296587926, MedAE: 234.21000000000004\n",
      "Minute: 21, MAPE: 0.2365634011995777, MAE: 290.6441960784314, MedAE: 198.56499999999994\n",
      "Minute: 22, MAPE: 0.21777775510874847, MAE: 281.5137442244224, MedAE: 191.54999999999995\n",
      "Minute: 23, MAPE: 0.23906223555872158, MAE: 322.57828571428564, MedAE: 254.29999999999995\n",
      "Minute: 24, MAPE: 0.24091955739175924, MAE: 338.16552380952373, MedAE: 311.91499999999996\n",
      "Minute: 25, MAPE: 0.18356573631552547, MAE: 269.6074649122807, MedAE: 232.35500000000002\n",
      "Minute: 26, MAPE: 0.1901958473851703, MAE: 290.25307619047607, MedAE: 245.02999999999997\n",
      "Minute: 27, MAPE: 0.25710448931243135, MAE: 411.30826041666666, MedAE: 288.5\n",
      "Minute: 28, MAPE: 0.24532102236374909, MAE: 405.5506481481482, MedAE: 312.06999999999994\n",
      "Minute: 29, MAPE: 0.22630356546159033, MAE: 387.3616944444445, MedAE: 241.57999999999993\n",
      "Minute: 30, MAPE: 0.16886952475928188, MAE: 298.4080952380952, MedAE: 154.6633333333334\n",
      "Minute: 31, MAPE: 0.19510349891170417, MAE: 357.2173777777778, MedAE: 195.01\n",
      "Minute: 32, MAPE: 0.21126084344864846, MAE: 397.6357142857144, MedAE: 319.33000000000004\n",
      "Minute: 33, MAPE: 0.3096643907380735, MAE: 606.011, MedAE: 540.295\n",
      "Minute: 34, MAPE: 0.24803786859930474, MAE: 497.7278703703704, MedAE: 452.70000000000005\n",
      "Minute: 35, MAPE: 0.08202656570011913, MAE: 169.98489999999998, MedAE: 96.76499999999999\n",
      "Minute: 36, MAPE: 0.15081607013526596, MAE: 318.8328571428571, MedAE: 145.30999999999995\n",
      "Minute: 37, MAPE: 0.1084435788216654, MAE: 237.8363888888889, MedAE: 167.71000000000004\n",
      "Minute: 38, MAPE: 0.07298517194269419, MAE: 164.85812499999986, MedAE: 81.55624999999986\n",
      "Minute: 39, MAPE: 0.13724919659453436, MAE: 316.47999999999996, MedAE: 272.92999999999984\n",
      "Minute: 40, MAPE: 0.28014179206434564, MAE: 662.9928428571428, MedAE: 439.6199999999999\n",
      "Minute: 41, MAPE: 0.29832368096644346, MAE: 725.4066666666668, MedAE: 67.32000000000016\n",
      "Minute: 42, MAPE: 0.0869231491386748, MAE: 216.13500000000005, MedAE: 203.01000000000022\n",
      "Minute: 43, MAPE: 0.05766263455674352, MAE: 146.93500000000017, MedAE: 146.93500000000017\n",
      "Minute: 44, MAPE: 0.3720373363772911, MAE: 971.8399999999999, MedAE: 971.8399999999999\n",
      "Minute: 45, MAPE: 0.21191398244957665, MAE: 568.255, MedAE: 568.255\n",
      "Minute: 48, MAPE: 0.40988692579505304, MAE: 1159.98, MedAE: 1159.98\n",
      "Minute: 49, MAPE: 0.36276066642844385, MAE: 1051.1100000000001, MedAE: 1051.1100000000001\n",
      "Minute: 57, MAPE: 0.815499405469679, MAE: 2743.34, MedAE: 2743.34\n"
     ]
    }
   ],
   "source": [
    "print_statistics_by_group(X_holdout, y_holdout, random_forest_regressor, \"Random Forest\")"
   ],
   "metadata": {
    "collapsed": false,
    "ExecuteTime": {
     "end_time": "2024-03-19T22:37:35.046505400Z",
     "start_time": "2024-03-19T22:37:32.670679300Z"
    }
   },
   "id": "e6b54b09cc919bf2"
  },
  {
   "cell_type": "code",
   "execution_count": 17,
   "outputs": [
    {
     "name": "stdout",
     "output_type": "stream",
     "text": [
      "XG Boost MAE (Mean Absolute Error): 113.72456056331998\n",
      "XG Boost MAPE (Mean Absolute Percentage Error): 4107739167109179.5\n",
      "XG Boost MEDAE (Median Absolute Error): 72.01902770996094\n",
      "Relative error value grouped by target value:\n",
      "Minute: 1, MAPE: 7.254115343513071, MAE: 69.66377844514221, MedAE: 48.22535705566406\n",
      "Minute: 2, MAPE: 0.8441516230870638, MAE: 73.09673391009315, MedAE: 49.999900817871094\n",
      "Minute: 3, MAPE: 0.5724340148864464, MAE: 84.73777719155272, MedAE: 65.16132354736328\n",
      "Minute: 4, MAPE: 0.4657377212547934, MAE: 97.25793021364032, MedAE: 78.49705505371094\n",
      "Minute: 5, MAPE: 0.4087429760721466, MAE: 109.92492099307832, MedAE: 91.62965393066406\n",
      "Minute: 6, MAPE: 0.3600822093545542, MAE: 118.50968210967262, MedAE: 102.50151062011719\n",
      "Minute: 7, MAPE: 0.33232761681615947, MAE: 129.46692630765205, MedAE: 108.26834106445312\n",
      "Minute: 8, MAPE: 0.3097394584565594, MAE: 139.2465128696913, MedAE: 120.09573364257812\n",
      "Minute: 9, MAPE: 0.29959738530191876, MAE: 152.3279010152865, MedAE: 134.7154541015625\n",
      "Minute: 10, MAPE: 0.262468127579095, MAE: 149.33265718278432, MedAE: 126.18258666992188\n",
      "Minute: 11, MAPE: 0.26593981126167127, MAE: 167.40256691252654, MedAE: 143.8525390625\n",
      "Minute: 12, MAPE: 0.2719536373784032, MAE: 187.8546871136708, MedAE: 158.08966064453125\n",
      "Minute: 13, MAPE: 0.26891517952198796, MAE: 202.0452794456087, MedAE: 177.3284912109375\n",
      "Minute: 14, MAPE: 0.2544973781070356, MAE: 206.07330956306632, MedAE: 173.26019287109375\n",
      "Minute: 15, MAPE: 0.25659327146831884, MAE: 222.70399234581552, MedAE: 181.8294677734375\n",
      "Minute: 16, MAPE: 0.28544082860774306, MAE: 265.38029154114804, MedAE: 237.57720947265625\n",
      "Minute: 17, MAPE: 0.28430338990832166, MAE: 281.6056478911755, MedAE: 226.01876831054688\n",
      "Minute: 18, MAPE: 0.26872585666073445, MAE: 282.42487561075313, MedAE: 229.73013305664062\n",
      "Minute: 19, MAPE: 0.29839282464915085, MAE: 330.6451502446528, MedAE: 289.6826171875\n",
      "Minute: 20, MAPE: 0.2892310999180918, MAE: 338.9228348619356, MedAE: 300.43487548828125\n",
      "Minute: 21, MAPE: 0.27426378307876237, MAE: 337.78047509286915, MedAE: 333.94921875\n",
      "Minute: 22, MAPE: 0.26390033300032645, MAE: 341.1225113066116, MedAE: 271.4105224609375\n",
      "Minute: 23, MAPE: 0.2535142189508754, MAE: 342.1376460484096, MedAE: 275.2872314453125\n",
      "Minute: 24, MAPE: 0.26477942035263197, MAE: 371.9002748216902, MedAE: 307.7275390625\n",
      "Minute: 25, MAPE: 0.17881591671426691, MAE: 262.86824156108656, MedAE: 178.19189453125\n",
      "Minute: 26, MAPE: 0.26322328832921355, MAE: 400.9177952357701, MedAE: 329.77001953125\n",
      "Minute: 27, MAPE: 0.2900602956135594, MAE: 463.4378471374512, MedAE: 381.53619384765625\n",
      "Minute: 28, MAPE: 0.26744901630137496, MAE: 441.95391490724353, MedAE: 389.99658203125\n",
      "Minute: 29, MAPE: 0.2201556528858153, MAE: 376.7476501464844, MedAE: 271.94036865234375\n",
      "Minute: 30, MAPE: 0.2170002707423615, MAE: 383.55711437406995, MedAE: 276.6466064453125\n",
      "Minute: 31, MAPE: 0.21331991514861376, MAE: 390.72967529296875, MedAE: 330.45703125\n",
      "Minute: 32, MAPE: 0.27300518300029675, MAE: 514.1677812848773, MedAE: 404.62384033203125\n",
      "Minute: 33, MAPE: 0.32769195635291126, MAE: 640.9308700561523, MedAE: 744.9791259765625\n",
      "Minute: 34, MAPE: 0.32124591910699296, MAE: 645.0787251790365, MedAE: 688.5376586914062\n",
      "Minute: 35, MAPE: 0.08941837587052749, MAE: 185.6535888671875, MedAE: 98.3541259765625\n",
      "Minute: 36, MAPE: 0.20680868819105536, MAE: 437.0204860142299, MedAE: 230.884033203125\n",
      "Minute: 37, MAPE: 0.09895783499201892, MAE: 217.24869791666666, MedAE: 137.997802734375\n",
      "Minute: 38, MAPE: 0.11597093903533356, MAE: 262.96966552734375, MedAE: 49.5374755859375\n",
      "Minute: 39, MAPE: 0.2099222967021813, MAE: 483.0987548828125, MedAE: 419.0029296875\n",
      "Minute: 40, MAPE: 0.2940329970609713, MAE: 695.6165283203125, MedAE: 597.565673828125\n",
      "Minute: 41, MAPE: 0.32964321180737377, MAE: 802.0979614257812, MedAE: 238.908447265625\n",
      "Minute: 42, MAPE: 0.1734305253000433, MAE: 431.0590576171875, MedAE: 471.89208984375\n",
      "Minute: 43, MAPE: 0.1361453594750278, MAE: 347.421142578125, MedAE: 347.421142578125\n",
      "Minute: 44, MAPE: 0.3630433112821685, MAE: 947.9010620117188, MedAE: 947.9010620117188\n",
      "Minute: 45, MAPE: 0.27873663374349433, MAE: 745.9647216796875, MedAE: 745.9647216796875\n",
      "Minute: 48, MAPE: 0.22447332914642226, MAE: 635.259521484375, MedAE: 635.259521484375\n",
      "Minute: 49, MAPE: 0.3724427052145099, MAE: 1079.1604614257812, MedAE: 1079.1604614257812\n",
      "Minute: 57, MAPE: 0.6336450746878716, MAE: 2131.58203125, MedAE: 2131.58203125\n"
     ]
    }
   ],
   "source": [
    "print_statistics_by_group(X_holdout, y_holdout, xg_regressor, \"XG Boost\")"
   ],
   "metadata": {
    "collapsed": false,
    "ExecuteTime": {
     "end_time": "2024-03-19T22:43:12.248127200Z",
     "start_time": "2024-03-19T22:43:12.013584300Z"
    }
   },
   "id": "4becc9d98f2c2d9a"
  },
  {
   "cell_type": "code",
   "execution_count": 26,
   "outputs": [
    {
     "name": "stdout",
     "output_type": "stream",
     "text": [
      "Best Parameters: {'gamma': 0.0, 'learning_rate': 0.03, 'max_depth': 10, 'min_child_weight': 1, 'n_estimators': 50}\n",
      "Best Score (Negative MSE): -2603991248132681.0\n"
     ]
    }
   ],
   "source": [
    "xgb = XGBRegressor()\n",
    "\n",
    "# Define the hyperparameters grid for GridSearchCV\n",
    "param_grid = {\n",
    "    'n_estimators': [50, 100, 150],\n",
    "    'learning_rate': [0.03, 0.1, 0.3],\n",
    "    'max_depth': [5, 7, 10],\n",
    "    'min_child_weight': [1, 3, 5],\n",
    "    'gamma': [0.0, 0.1, 0.2]\n",
    "}\n",
    "\n",
    "# Initialize GridSearchCV\n",
    "#grid_search = GridSearchCV(estimator=xgb, param_grid=param_grid, cv=5, n_jobs=-1, scoring='neg_mean_squared_error')\n",
    "grid_search = GridSearchCV(estimator=xgb, param_grid=param_grid, cv=5, n_jobs=-1, scoring='neg_mean_absolute_percentage_error')\n",
    "\n",
    "\n",
    "# Fit the GridSearchCV to the training data\n",
    "grid_search.fit(X_train, y_train)\n",
    "\n",
    "# Get the best parameters and best score\n",
    "best_params = grid_search.best_params_\n",
    "best_score = grid_search.best_score_\n",
    "print(\"Best Parameters:\", best_params)\n",
    "print(\"Best Score (Negative MSE):\", best_score)\n",
    "\n",
    "# Make predictions on the testing data using the best estimator found\n",
    "best_estimator = grid_search.best_estimator_"
   ],
   "metadata": {
    "collapsed": false,
    "ExecuteTime": {
     "end_time": "2024-03-20T00:38:18.872360400Z",
     "start_time": "2024-03-19T23:52:50.562072600Z"
    }
   },
   "id": "3f7d985ce1efacdc"
  },
  {
   "cell_type": "code",
   "execution_count": 27,
   "outputs": [
    {
     "name": "stdout",
     "output_type": "stream",
     "text": [
      "XG Boost (GridSearchCV) MAE (Mean Absolute Error): 119.94750317316854\n",
      "XG Boost (GridSearchCV) MAPE (Mean Absolute Percentage Error): 2929019553372411.0\n",
      "XG Boost (GridSearchCV) MEDAE (Median Absolute Error): 62.96519088745117\n",
      "Relative error value grouped by target value:\n",
      "Minute: 1, MAPE: 5.4055967414104895, MAE: 46.911740697422154, MedAE: 34.12319755554199\n",
      "Minute: 2, MAPE: 0.5877979545748045, MAE: 51.2736757244153, MedAE: 38.08273696899414\n",
      "Minute: 3, MAPE: 0.45087097498882556, MAE: 66.69969522924718, MedAE: 56.115352630615234\n",
      "Minute: 4, MAPE: 0.384188134075566, MAE: 80.45034044301735, MedAE: 71.07898712158203\n",
      "Minute: 5, MAPE: 0.36267346087003693, MAE: 97.54871063868205, MedAE: 87.34322357177734\n",
      "Minute: 6, MAPE: 0.35291522785822943, MAE: 116.19978491940535, MedAE: 107.08181762695312\n",
      "Minute: 7, MAPE: 0.3508307664162735, MAE: 136.61918896457146, MedAE: 126.71923828125\n",
      "Minute: 8, MAPE: 0.33522267233357755, MAE: 150.70624037805547, MedAE: 142.2083740234375\n",
      "Minute: 9, MAPE: 0.3495312885878482, MAE: 177.9991467639185, MedAE: 175.81234741210938\n",
      "Minute: 10, MAPE: 0.3357673428983534, MAE: 191.14763602756318, MedAE: 180.87391662597656\n",
      "Minute: 11, MAPE: 0.35614531907182273, MAE: 224.1012921162281, MedAE: 211.45843505859375\n",
      "Minute: 12, MAPE: 0.37245057251746744, MAE: 257.309544046973, MedAE: 255.49009704589844\n",
      "Minute: 13, MAPE: 0.40074038288159625, MAE: 300.8639804137173, MedAE: 292.4653015136719\n",
      "Minute: 14, MAPE: 0.3864808569988529, MAE: 312.710300306207, MedAE: 307.37548828125\n",
      "Minute: 15, MAPE: 0.4068277803542523, MAE: 352.95320973997593, MedAE: 336.5548095703125\n",
      "Minute: 16, MAPE: 0.4307447143769602, MAE: 400.40362574690477, MedAE: 406.88189697265625\n",
      "Minute: 17, MAPE: 0.44137975239924315, MAE: 436.79200131285427, MedAE: 428.6819152832031\n",
      "Minute: 18, MAPE: 0.42160966138058464, MAE: 442.64773820575914, MedAE: 438.6667175292969\n",
      "Minute: 19, MAPE: 0.4660471662929687, MAE: 516.9156825992611, MedAE: 516.2788696289062\n",
      "Minute: 20, MAPE: 0.4464149331921435, MAE: 522.7681548651748, MedAE: 519.0628662109375\n",
      "Minute: 21, MAPE: 0.41976766895683426, MAE: 516.6431477864584, MedAE: 526.2001342773438\n",
      "Minute: 22, MAPE: 0.42994487973025686, MAE: 555.2833149220684, MedAE: 527.7440795898438\n",
      "Minute: 23, MAPE: 0.4477057281872759, MAE: 603.9131164550781, MedAE: 581.3715515136719\n",
      "Minute: 24, MAPE: 0.45391434566192906, MAE: 637.8431998661587, MedAE: 605.8013305664062\n",
      "Minute: 25, MAPE: 0.39256301701680574, MAE: 576.6100552207545, MedAE: 550.876220703125\n",
      "Minute: 26, MAPE: 0.4141391298686969, MAE: 630.9084272112165, MedAE: 545.9320068359375\n",
      "Minute: 27, MAPE: 0.47379628234957505, MAE: 755.542046546936, MedAE: 731.1512756347656\n",
      "Minute: 28, MAPE: 0.47615517568237614, MAE: 785.7340643141005, MedAE: 780.2041625976562\n",
      "Minute: 29, MAPE: 0.4658626378038193, MAE: 797.311663309733, MedAE: 841.2691650390625\n",
      "Minute: 30, MAPE: 0.3787719547303569, MAE: 670.129144577753, MedAE: 565.4429931640625\n",
      "Minute: 31, MAPE: 0.36969027500391605, MAE: 677.6728800455729, MedAE: 689.4930419921875\n",
      "Minute: 32, MAPE: 0.4199248669956174, MAE: 791.4177115304129, MedAE: 824.86328125\n",
      "Minute: 33, MAPE: 0.5057443772643533, MAE: 987.8267593383789, MedAE: 1091.0192565917969\n",
      "Minute: 34, MAPE: 0.48523571572922, MAE: 974.7158559163412, MedAE: 1089.4061889648438\n",
      "Minute: 35, MAPE: 0.3065993894190322, MAE: 635.1380737304687, MedAE: 576.3634033203125\n",
      "Minute: 36, MAPE: 0.345829157553213, MAE: 732.6000845772879, MedAE: 551.740966796875\n",
      "Minute: 37, MAPE: 0.2935825499959386, MAE: 643.7524956597222, MedAE: 519.79150390625\n",
      "Minute: 38, MAPE: 0.2962470972105935, MAE: 668.4619445800781, MedAE: 671.8853759765625\n",
      "Minute: 39, MAPE: 0.3902199508594523, MAE: 901.1013590494791, MedAE: 1001.2781982421875\n",
      "Minute: 40, MAPE: 0.4975155393667105, MAE: 1175.6675537109375, MedAE: 1092.376953125\n",
      "Minute: 41, MAPE: 0.4899355635271701, MAE: 1193.6145528157551, MedAE: 682.243408203125\n",
      "Minute: 42, MAPE: 0.3612522797460251, MAE: 899.15595703125, MedAE: 809.9078369140625\n",
      "Minute: 43, MAPE: 0.4518308204716188, MAE: 1154.4124145507812, MedAE: 1154.4124145507812\n",
      "Minute: 44, MAPE: 0.5264429538199501, MAE: 1372.3417663574219, MedAE: 1372.3417663574219\n",
      "Minute: 45, MAPE: 0.4016206991850594, MAE: 1073.2533569335938, MedAE: 1073.2533569335938\n",
      "Minute: 48, MAPE: 0.5719624334005079, MAE: 1618.6536865234375, MedAE: 1618.6536865234375\n",
      "Minute: 49, MAPE: 0.5909918417904192, MAE: 1712.4015502929688, MedAE: 1712.4015502929688\n",
      "Minute: 57, MAPE: 0.9095911849267985, MAE: 3059.86474609375, MedAE: 3059.86474609375\n"
     ]
    }
   ],
   "source": [
    "print_statistics_by_group(X_holdout, y_holdout, best_estimator, \"XG Boost (GridSearchCV)\")"
   ],
   "metadata": {
    "collapsed": false,
    "ExecuteTime": {
     "end_time": "2024-03-20T05:34:48.716315400Z",
     "start_time": "2024-03-20T05:34:48.306391200Z"
    }
   },
   "id": "239632ceea38bc9a"
  },
  {
   "cell_type": "code",
   "execution_count": 20,
   "outputs": [],
   "source": [
    "importances = random_forest_regressor.feature_importances_\n",
    "std = np.std([tree.feature_importances_ for tree in random_forest_regressor.estimators_], axis=0)"
   ],
   "metadata": {
    "collapsed": false,
    "ExecuteTime": {
     "end_time": "2024-03-19T23:42:39.907172800Z",
     "start_time": "2024-03-19T23:42:37.884375400Z"
    }
   },
   "id": "d2bf38fe169a25ee"
  },
  {
   "cell_type": "code",
   "execution_count": 22,
   "outputs": [
    {
     "data": {
      "text/plain": "<Figure size 640x480 with 1 Axes>",
      "image/png": "[encoded data removed]"
     },
     "metadata": {},
     "output_type": "display_data"
    }
   ],
   "source": [
    "feature_names = [f\"feature {i}\" for i in range(X_holdout.shape[1])]\n",
    "forest_importances = pd.Series(importances, index=feature_names)\n",
    "\n",
    "fig, ax = plt.subplots()\n",
    "forest_importances.plot.bar(yerr=std, ax=ax)\n",
    "ax.set_title(\"Feature importances using MDI\")\n",
    "ax.set_ylabel(\"Mean decrease in impurity\")\n",
    "fig.tight_layout()"
   ],
   "metadata": {
    "collapsed": false,
    "ExecuteTime": {
     "end_time": "2024-03-19T23:43:47.463171Z",
     "start_time": "2024-03-19T23:43:46.419466300Z"
    }
   },
   "id": "a354c42e7bf66b0"
  },
  {
   "cell_type": "code",
   "execution_count": 25,
   "outputs": [
    {
     "name": "stdout",
     "output_type": "stream",
     "text": [
      "<class 'pandas.core.frame.DataFrame'>\n",
      "Int64Index: 105618 entries, 12 to 169279\n",
      "Data columns (total 21 columns):\n",
      " #   Column                                 Non-Null Count   Dtype  \n",
      "---  ------                                 --------------   -----  \n",
      " 0   month                                  105618 non-null  object \n",
      " 1   day_of_month                           105618 non-null  object \n",
      " 2   day_of_week                            105618 non-null  object \n",
      " 3   hour                                   105618 non-null  int64  \n",
      " 4   minute                                 105618 non-null  int64  \n",
      " 5   non_working_days_before                105618 non-null  int64  \n",
      " 6   non_working_days_after                 105618 non-null  int64  \n",
      " 7   service_id                             105618 non-null  object \n",
      " 8   minutes_from_opening                   105618 non-null  int64  \n",
      " 9   minutes_to_closing                     105618 non-null  int64  \n",
      " 10  queue_size_for_selected_service        105618 non-null  int64  \n",
      " 11  queue_size_total                       105618 non-null  int64  \n",
      " 12  selected_service_operators_count       105618 non-null  int64  \n",
      " 13  total_operators_count                  105618 non-null  int64  \n",
      " 14  operators_avg_service_time_last_month  105618 non-null  float64\n",
      " 15  operators_avg_service_time_last_hour   105618 non-null  float64\n",
      " 16  weather_type                           105618 non-null  object \n",
      " 17  service_operators_set                  105618 non-null  object \n",
      " 18  priority                               105618 non-null  int64  \n",
      " 19  is_mobile                              105618 non-null  int64  \n",
      " 20  is_urgent                              105618 non-null  object \n",
      "dtypes: float64(2), int64(12), object(7)\n",
      "memory usage: 17.7+ MB\n"
     ]
    }
   ],
   "source": [
    "df_reg = pd.read_csv(\"observation_202403041348.csv\")\n",
    "\n",
    "df_reg[\"month\"] = df_reg[\"month\"].astype(\"object\")\n",
    "df_reg[\"day_of_month\"] = df_reg[\"day_of_month\"].astype(\"object\")\n",
    "df_reg[\"day_of_week\"] = df_reg[\"day_of_week\"].astype(\"object\")\n",
    "df_reg[\"service_id\"] = df_reg[\"service_id\"].astype(\"object\")\n",
    "df_reg[\"service_operators_set\"] = df_reg[\"service_operators_set\"].astype(\"object\")\n",
    "df_reg[\"is_urgent\"] = df_reg[\"is_urgent\"].astype(\"object\")\n",
    "df_reg[\"weather_type\"] = df_reg[\"weather_type\"].astype(\"object\")\n",
    "\n",
    "df_reg = df_reg[df_reg[\"operators_avg_service_time_last_month\"] > 0]\n",
    "df_reg = df_reg[df_reg[\"operators_avg_service_time_last_hour\"] > 0]\n",
    "#df_reg = df_reg[df_reg[\"wait_duration\"] > 0]\n",
    "\n",
    "df_reg.drop([\"wait_duration\", \"wait_duration_class_1\", \"wait_duration_class_2\", \"id\"], axis=1, inplace=True)\n",
    "df_reg.info()\n",
    "    "
   ],
   "metadata": {
    "collapsed": false,
    "ExecuteTime": {
     "end_time": "2024-03-19T23:50:34.962401700Z",
     "start_time": "2024-03-19T23:50:34.212764800Z"
    }
   },
   "id": "4e7c3949beb030b9"
  }
 ],
 "metadata": {
  "kernelspec": {
   "display_name": "Python 3",
   "language": "python",
   "name": "python3"
  },
  "language_info": {
   "codemirror_mode": {
    "name": "ipython",
    "version": 2
   },
   "file_extension": ".py",
   "mimetype": "text/x-python",
   "name": "python",
   "nbconvert_exporter": "python",
   "pygments_lexer": "ipython2",
   "version": "2.7.6"
  }
 },
 "nbformat": 4,
 "nbformat_minor": 5
}
